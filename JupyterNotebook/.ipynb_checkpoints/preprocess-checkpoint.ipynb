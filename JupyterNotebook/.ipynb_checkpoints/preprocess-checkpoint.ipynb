{
 "cells": [
  {
   "cell_type": "code",
   "execution_count": 2,
   "metadata": {},
   "outputs": [],
   "source": [
    "import os\n",
    "import pandas as pd\n",
    "import pickle"
   ]
  },
  {
   "cell_type": "code",
   "execution_count": null,
   "metadata": {},
   "outputs": [],
   "source": []
  },
  {
   "cell_type": "code",
   "execution_count": 3,
   "metadata": {},
   "outputs": [
    {
     "name": "stdout",
     "output_type": "stream",
     "text": [
      "number of json files: 12 \n",
      "list of json files: ['../curated-source-dataset/english/unbiased\\\\Forum\\\\cafemom.json', '../curated-source-dataset/english/unbiased\\\\Forum\\\\disqus.json', '../curated-source-dataset/english/unbiased\\\\Forum\\\\quora.json', '../curated-source-dataset/english/unbiased\\\\Forum\\\\reddit.json', '../curated-source-dataset/english/unbiased\\\\Forum\\\\usmessageboard.json', '../curated-source-dataset/english/unbiased\\\\newssites\\\\chicagotribune.json', '../curated-source-dataset/english/unbiased\\\\newssites\\\\huffingtonpost.json', '../curated-source-dataset/english/unbiased\\\\newssites\\\\latimes.json', '../curated-source-dataset/english/unbiased\\\\newssites\\\\nypost.json', '../curated-source-dataset/english/unbiased\\\\newssites\\\\nytimes.json', '../curated-source-dataset/english/unbiased\\\\newssites\\\\usatoday.json', '../curated-source-dataset/english/unbiased\\\\newssites\\\\washingtonpost.json']\n"
     ]
    }
   ],
   "source": [
    "data_base_path = \"../curated-source-dataset/english/unbiased\"\n",
    "# data_base_path = \"../curated-source-dataset/english\"\n",
    "json_list = []\n",
    "for root, dirs, files in os.walk(data_base_path):\n",
    "    for file in files:\n",
    "        if file.endswith('.json'):\n",
    "            json_list.append(os.path.join(root, file))\n",
    "print(\"number of json files:\", len(json_list), '\\nlist of json files:', json_list)"
   ]
  },
  {
   "cell_type": "code",
   "execution_count": 4,
   "metadata": {},
   "outputs": [],
   "source": [
    "def extract_comment(df):\n",
    "    df_new = pd.DataFrame()\n",
    "    df_new['comment'] = ''\n",
    "    # print(df.shape)\n",
    "    df = df[(df.relevant == 1)]     # filter out not relevant articles\n",
    "    # print(df.shape)\n",
    "    for comments in df['comments']:\n",
    "        for comment in comments:\n",
    "            if comment['processed_comment_text'] != '':     # filter out blank comment\n",
    "                df_new = df_new.append({'comment': comment['processed_comment_text'],}, ignore_index=True)\n",
    "    return df_new"
   ]
  },
  {
   "cell_type": "code",
   "execution_count": 5,
   "metadata": {},
   "outputs": [
    {
     "name": "stdout",
     "output_type": "stream",
     "text": [
      "                                        article_title  \\\n",
      "0                                        Organic food   \n",
      "1                        Organic food is no healthier   \n",
      "2   Num Nums Organic Food for Baby. Orlando Delive...   \n",
      "3                    Gluten Free Foods @ Trader Joe's   \n",
      "4   the cheapest store to go grocery shopping? (ot...   \n",
      "..                                                ...   \n",
      "83                           My lips are killling me!   \n",
      "84                      I'm addicted to baby formula.   \n",
      "85                directions on using gentian violet?   \n",
      "86  Can I put breastmilk on my new tattoo instead ...   \n",
      "87  Have you used coconut oil for thrush/bacterial...   \n",
      "\n",
      "                                       article_author        article_time  \\\n",
      "0   [{'article_author_id': '369825', 'article_auth... 2017-11-28 12:36:00   \n",
      "1   [{'article_author_id': '148861', 'article_auth... 2009-07-29 18:38:00   \n",
      "2   [{'article_author_id': '312143', 'article_auth... 2012-08-17 10:42:00   \n",
      "3   [{'article_author_id': '365540', 'article_auth... 2008-02-22 14:48:00   \n",
      "4   [{'article_author_id': '552253', 'article_auth... 2009-07-03 16:27:00   \n",
      "..                                                ...                 ...   \n",
      "83  [{'article_author_id': '179677', 'article_auth... 2010-09-18 12:42:00   \n",
      "84  [{'article_author_id': '', 'article_author_nam... 2013-04-27 15:45:00   \n",
      "85  [{'article_author_id': '120987', 'article_auth... 2009-05-04 21:14:00   \n",
      "86  [{'article_author_id': '283324', 'article_auth... 2013-02-25 22:32:00   \n",
      "87  [{'article_author_id': '163120', 'article_auth... 2010-05-30 21:28:00   \n",
      "\n",
      "                                         article_text article_source  \\\n",
      "0   Hi, how many of you are into organic food? I r...        cafemom   \n",
      "1   LONDON (Reuters) - Organic food has no nutriti...        cafemom   \n",
      "2   As a new mom with a love of food I am offering...        cafemom   \n",
      "3   No Gluten Ingredients 1 Edited 2/21/08\\nNO GLU...        cafemom   \n",
      "4   Where do you shop and what do you think is the...        cafemom   \n",
      "..                                                ...            ...   \n",
      "83  Nearly a month ago, I forgot to grab my chapst...        cafemom   \n",
      "84  Ever since my sonw as born a year ago, I have ...        cafemom   \n",
      "85  so i got the gentian violet. how often do i us...        cafemom   \n",
      "86  I just got my first tattoo :Dits of \"June 16th...        cafemom   \n",
      "87  I've read up on it, and as we speak I am eatin...        cafemom   \n",
      "\n",
      "                                             comments  \\\n",
      "0   [{'comment_id': 'post349826036', 'comment_auth...   \n",
      "1   [{'comment_id': 'post69424412', 'comment_autho...   \n",
      "2   [{'comment_id': 'post200364798', 'comment_auth...   \n",
      "3   [{'comment_id': 'post16999019', 'comment_autho...   \n",
      "4   [{'comment_id': 'post67815207', 'comment_autho...   \n",
      "..                                                ...   \n",
      "83  [{'comment_id': 'post108128390', 'comment_auth...   \n",
      "84  [{'comment_id': 'post228776212', 'comment_auth...   \n",
      "85  [{'comment_id': 'post63820164', 'comment_autho...   \n",
      "86  [{'comment_id': 'post222841107', 'comment_auth...   \n",
      "87  [{'comment_id': 'post89885026', 'comment_autho...   \n",
      "\n",
      "                     search_query  \\\n",
      "0   organic food site:cafemom.com   \n",
      "1   organic food site:cafemom.com   \n",
      "2   organic food site:cafemom.com   \n",
      "3   organic food site:cafemom.com   \n",
      "4   organic food site:cafemom.com   \n",
      "..                            ...   \n",
      "83       organic site:cafemom.com   \n",
      "84       organic site:cafemom.com   \n",
      "85       organic site:cafemom.com   \n",
      "86       organic site:cafemom.com   \n",
      "87       organic site:cafemom.com   \n",
      "\n",
      "                                          article_url resource_type  relevant  \n",
      "0   http://www.cafemom.com/group/121506/forums/rea...         forum         1  \n",
      "1   http://www.cafemom.com/group/99198/forums/read...         forum         1  \n",
      "2   http://www.cafemom.com/group/117663/forums/rea...         forum         0  \n",
      "3   http://www.cafemom.com/group/909/forums/read/2...         forum         0  \n",
      "4   http://www.cafemom.com/group/416/forums/read/9...         forum         1  \n",
      "..                                                ...           ...       ...  \n",
      "83  http://www.cafemom.com/group/416/forums/read/1...         forum         0  \n",
      "84  http://www.cafemom.com/group/115189/forums/rea...         forum         0  \n",
      "85  http://www.cafemom.com/group/325/forums/read/8...         forum         0  \n",
      "86  http://www.cafemom.com/group/325/forums/read/1...         forum         0  \n",
      "87  http://www.cafemom.com/group/325/forums/read/1...         forum         0  \n",
      "\n",
      "[88 rows x 10 columns]\n",
      "                                               comment\n",
      "0    I think that if you can, organic and local is ...\n",
      "1                           Why am I not shocked ? lol\n",
      "2    oh this is going to get good. But i will say t...\n",
      "3    they are only talking about the general nutrie...\n",
      "4                   you took the words out of my mouth\n",
      "..                                                 ...\n",
      "324  I have never checked a single thing I use for ...\n",
      "325  Salicylic acid This mild acid is used to treat...\n",
      "326                           I ditto her. What is it?\n",
      "327  When I was pregnant with my daughter in 2006 I...\n",
      "328  Im a \"green\" \"crunchy\" momma and I try to avoi...\n",
      "\n",
      "[329 rows x 1 columns]\n"
     ]
    }
   ],
   "source": [
    "df_example = pd.read_json(json_list[0])\n",
    "df_example_comment = extract_comment(df_example)\n",
    "print(df_example)\n",
    "print(df_example_comment)"
   ]
  },
  {
   "cell_type": "code",
   "execution_count": 6,
   "metadata": {},
   "outputs": [
    {
     "name": "stdout",
     "output_type": "stream",
     "text": [
      "cafemom.json (88, 10) (329, 1)\n",
      "disqus.json (42, 12) (7573, 1)\n",
      "quora.json (1703, 10) (8634, 1)\n",
      "reddit.json (256, 13) (8134, 1)\n",
      "usmessageboard.json (382, 10) (1954, 1)\n",
      "chicagotribune.json (2328, 10) (151, 1)\n",
      "huffingtonpost.json (880, 10) (0, 1)\n",
      "latimes.json (1522, 10) (14, 1)\n",
      "nypost.json (106, 10) (0, 1)\n",
      "nytimes.json (438, 10) (11567, 1)\n",
      "usatoday.json (95, 10) (191, 1)\n",
      "washingtonpost.json (1563, 12) (14771, 1)\n"
     ]
    },
    {
     "data": {
      "text/html": [
       "<div>\n",
       "<style scoped>\n",
       "    .dataframe tbody tr th:only-of-type {\n",
       "        vertical-align: middle;\n",
       "    }\n",
       "\n",
       "    .dataframe tbody tr th {\n",
       "        vertical-align: top;\n",
       "    }\n",
       "\n",
       "    .dataframe thead th {\n",
       "        text-align: right;\n",
       "    }\n",
       "</style>\n",
       "<table border=\"1\" class=\"dataframe\">\n",
       "  <thead>\n",
       "    <tr style=\"text-align: right;\">\n",
       "      <th></th>\n",
       "      <th>comment</th>\n",
       "    </tr>\n",
       "  </thead>\n",
       "  <tbody>\n",
       "    <tr>\n",
       "      <td>0</td>\n",
       "      <td>I think that if you can, organic and local is ...</td>\n",
       "    </tr>\n",
       "    <tr>\n",
       "      <td>1</td>\n",
       "      <td>Why am I not shocked ? lol</td>\n",
       "    </tr>\n",
       "    <tr>\n",
       "      <td>2</td>\n",
       "      <td>oh this is going to get good. But i will say t...</td>\n",
       "    </tr>\n",
       "    <tr>\n",
       "      <td>3</td>\n",
       "      <td>they are only talking about the general nutrie...</td>\n",
       "    </tr>\n",
       "    <tr>\n",
       "      <td>4</td>\n",
       "      <td>you took the words out of my mouth</td>\n",
       "    </tr>\n",
       "  </tbody>\n",
       "</table>\n",
       "</div>"
      ],
      "text/plain": [
       "                                             comment\n",
       "0  I think that if you can, organic and local is ...\n",
       "1                         Why am I not shocked ? lol\n",
       "2  oh this is going to get good. But i will say t...\n",
       "3  they are only talking about the general nutrie...\n",
       "4                 you took the words out of my mouth"
      ]
     },
     "execution_count": 6,
     "metadata": {},
     "output_type": "execute_result"
    }
   ],
   "source": [
    "df_comment = pd.DataFrame()\n",
    "df_comment['comment'] = ''\n",
    "for file in json_list:\n",
    "    df = pd.read_json(file)\n",
    "    df_new = extract_comment(df)\n",
    "    print(os.path.basename(file), df.shape, df_new.shape)\n",
    "    df_comment = df_comment.append(df_new)\n",
    "df_comment.head()"
   ]
  },
  {
   "cell_type": "code",
   "execution_count": 7,
   "metadata": {},
   "outputs": [
    {
     "data": {
      "text/plain": [
       "(53318, 1)"
      ]
     },
     "execution_count": 7,
     "metadata": {},
     "output_type": "execute_result"
    }
   ],
   "source": [
    "df_comment.shape"
   ]
  },
  {
   "cell_type": "code",
   "execution_count": 10,
   "metadata": {},
   "outputs": [],
   "source": [
    "processed_path = \"../processed\"\n",
    "os.makedirs(processed_path, exist_ok=True)\n",
    "with open(os.path.join(processed_path, 'comments.pkl'), 'wb') as f:\n",
    "    pickle.dump(df_comment, f)"
   ]
  },
  {
   "cell_type": "code",
   "execution_count": 9,
   "metadata": {},
   "outputs": [
    {
     "data": {
      "text/html": [
       "<div>\n",
       "<style scoped>\n",
       "    .dataframe tbody tr th:only-of-type {\n",
       "        vertical-align: middle;\n",
       "    }\n",
       "\n",
       "    .dataframe tbody tr th {\n",
       "        vertical-align: top;\n",
       "    }\n",
       "\n",
       "    .dataframe thead th {\n",
       "        text-align: right;\n",
       "    }\n",
       "</style>\n",
       "<table border=\"1\" class=\"dataframe\">\n",
       "  <thead>\n",
       "    <tr style=\"text-align: right;\">\n",
       "      <th></th>\n",
       "      <th>comment</th>\n",
       "    </tr>\n",
       "  </thead>\n",
       "  <tbody>\n",
       "    <tr>\n",
       "      <td>0</td>\n",
       "      <td>I think that if you can, organic and local is ...</td>\n",
       "    </tr>\n",
       "    <tr>\n",
       "      <td>1</td>\n",
       "      <td>Why am I not shocked ? lol</td>\n",
       "    </tr>\n",
       "    <tr>\n",
       "      <td>2</td>\n",
       "      <td>oh this is going to get good. But i will say t...</td>\n",
       "    </tr>\n",
       "    <tr>\n",
       "      <td>3</td>\n",
       "      <td>they are only talking about the general nutrie...</td>\n",
       "    </tr>\n",
       "    <tr>\n",
       "      <td>4</td>\n",
       "      <td>you took the words out of my mouth</td>\n",
       "    </tr>\n",
       "    <tr>\n",
       "      <td>...</td>\n",
       "      <td>...</td>\n",
       "    </tr>\n",
       "    <tr>\n",
       "      <td>14766</td>\n",
       "      <td>Recognizing the power of Branding, the Amish s...</td>\n",
       "    </tr>\n",
       "    <tr>\n",
       "      <td>14767</td>\n",
       "      <td>Amish tend to avoid 'branding' anything they m...</td>\n",
       "    </tr>\n",
       "    <tr>\n",
       "      <td>14768</td>\n",
       "      <td>The Amish community around Lancaster, PA love ...</td>\n",
       "    </tr>\n",
       "    <tr>\n",
       "      <td>14769</td>\n",
       "      <td>Look for Organic Valley dairy products. You ca...</td>\n",
       "    </tr>\n",
       "    <tr>\n",
       "      <td>14770</td>\n",
       "      <td>Branding their milk may be against basic Amish...</td>\n",
       "    </tr>\n",
       "  </tbody>\n",
       "</table>\n",
       "<p>53318 rows × 1 columns</p>\n",
       "</div>"
      ],
      "text/plain": [
       "                                                 comment\n",
       "0      I think that if you can, organic and local is ...\n",
       "1                             Why am I not shocked ? lol\n",
       "2      oh this is going to get good. But i will say t...\n",
       "3      they are only talking about the general nutrie...\n",
       "4                     you took the words out of my mouth\n",
       "...                                                  ...\n",
       "14766  Recognizing the power of Branding, the Amish s...\n",
       "14767  Amish tend to avoid 'branding' anything they m...\n",
       "14768  The Amish community around Lancaster, PA love ...\n",
       "14769  Look for Organic Valley dairy products. You ca...\n",
       "14770  Branding their milk may be against basic Amish...\n",
       "\n",
       "[53318 rows x 1 columns]"
      ]
     },
     "execution_count": 9,
     "metadata": {},
     "output_type": "execute_result"
    }
   ],
   "source": [
    "with open(os.path.join(processed_path, 'comments.pkl'), 'rb') as f:\n",
    "    df_comment = pickle.load(f)\n",
    "df_comment      # TODO: index and length not match"
   ]
  },
  {
   "cell_type": "code",
   "execution_count": 47,
   "metadata": {},
   "outputs": [
    {
     "data": {
      "text/plain": [
       "0        I think that if you can, organic and local is ...\n",
       "1                               Why am I not shocked ? lol\n",
       "2        oh this is going to get good. But i will say t...\n",
       "3        they are only talking about the general nutrie...\n",
       "4                       you took the words out of my mouth\n",
       "                               ...                        \n",
       "14766    Recognizing the power of Branding, the Amish s...\n",
       "14767    Amish tend to avoid 'branding' anything they m...\n",
       "14768    The Amish community around Lancaster, PA love ...\n",
       "14769    Look for Organic Valley dairy products. You ca...\n",
       "14770    Branding their milk may be against basic Amish...\n",
       "Name: comment, Length: 53318, dtype: object"
      ]
     },
     "execution_count": 47,
     "metadata": {},
     "output_type": "execute_result"
    }
   ],
   "source": [
    "df_comment.comment"
   ]
  }
 ],
 "metadata": {
  "kernelspec": {
   "display_name": "Python 3.7.4 64-bit (conda)",
   "name": "python374jvsc74a57bd04905652b14e4b7eb92899b78ac499a22c488804455b27940a322fd82aaf71031"
  },
  "language_info": {
   "codemirror_mode": {
    "name": "ipython",
    "version": 3
   },
   "file_extension": ".py",
   "mimetype": "text/x-python",
   "name": "python",
   "nbconvert_exporter": "python",
   "pygments_lexer": "ipython3",
   "version": "3.7.4"
  }
 },
 "nbformat": 4,
 "nbformat_minor": 2
}
