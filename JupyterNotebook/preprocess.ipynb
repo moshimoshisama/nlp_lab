{
 "metadata": {
  "language_info": {
   "codemirror_mode": {
    "name": "ipython",
    "version": 3
   },
   "file_extension": ".py",
   "mimetype": "text/x-python",
   "name": "python",
   "nbconvert_exporter": "python",
   "pygments_lexer": "ipython3",
   "version": "3.7.4"
  },
  "orig_nbformat": 2,
  "kernelspec": {
   "name": "python374jvsc74a57bd04905652b14e4b7eb92899b78ac499a22c488804455b27940a322fd82aaf71031",
   "display_name": "Python 3.7.4 64-bit (conda)"
  }
 },
 "nbformat": 4,
 "nbformat_minor": 2,
 "cells": [
  {
   "source": [
    "import os\n",
    "import pandas as pd\n",
    "import pickle"
   ],
   "cell_type": "code",
   "metadata": {},
   "execution_count": 2,
   "outputs": []
  },
  {
   "cell_type": "code",
   "execution_count": 3,
   "metadata": {},
   "outputs": [
    {
     "output_type": "stream",
     "name": "stdout",
     "text": [
      "number of json files: 12 \nlist of json files: ['../curated-source-dataset/english/unbiased\\\\Forum\\\\cafemom.json', '../curated-source-dataset/english/unbiased\\\\Forum\\\\disqus.json', '../curated-source-dataset/english/unbiased\\\\Forum\\\\quora.json', '../curated-source-dataset/english/unbiased\\\\Forum\\\\reddit.json', '../curated-source-dataset/english/unbiased\\\\Forum\\\\usmessageboard.json', '../curated-source-dataset/english/unbiased\\\\newssites\\\\chicagotribune.json', '../curated-source-dataset/english/unbiased\\\\newssites\\\\huffingtonpost.json', '../curated-source-dataset/english/unbiased\\\\newssites\\\\latimes.json', '../curated-source-dataset/english/unbiased\\\\newssites\\\\nypost.json', '../curated-source-dataset/english/unbiased\\\\newssites\\\\nytimes.json', '../curated-source-dataset/english/unbiased\\\\newssites\\\\usatoday.json', '../curated-source-dataset/english/unbiased\\\\newssites\\\\washingtonpost.json']\n"
     ]
    }
   ],
   "source": [
    "data_base_path = \"../curated-source-dataset/english/unbiased\"\n",
    "# data_base_path = \"../curated-source-dataset/english\"\n",
    "json_list = []\n",
    "for root, dirs, files in os.walk(data_base_path):\n",
    "    for file in files:\n",
    "        if file.endswith('.json'):\n",
    "            json_list.append(os.path.join(root, file))\n",
    "print(\"number of json files:\", len(json_list), '\\nlist of json files:', json_list)"
   ]
  },
  {
   "cell_type": "code",
   "execution_count": 4,
   "metadata": {},
   "outputs": [],
   "source": [
    "def extract_comment(df):\n",
    "    df_new = pd.DataFrame()\n",
    "    df_new['comment'] = ''\n",
    "    # print(df.shape)\n",
    "    df = df[(df.relevant == 1)]     # filter out not relevant articles\n",
    "    # print(df.shape)\n",
    "    for comments in df['comments']:\n",
    "        for comment in comments:\n",
    "            if comment['processed_comment_text'] != '':     # filter out blank comment\n",
    "                df_new = df_new.append({'comment': comment['processed_comment_text'],}, ignore_index=True)\n",
    "    return df_new"
   ]
  },
  {
   "cell_type": "code",
   "execution_count": 5,
   "metadata": {},
   "outputs": [
    {
     "output_type": "stream",
     "name": "stdout",
     "text": [
      "                                        article_title  \\\n0                                        Organic food   \n1                        Organic food is no healthier   \n2   Num Nums Organic Food for Baby. Orlando Delive...   \n3                    Gluten Free Foods @ Trader Joe's   \n4   the cheapest store to go grocery shopping? (ot...   \n..                                                ...   \n83                           My lips are killling me!   \n84                      I'm addicted to baby formula.   \n85                directions on using gentian violet?   \n86  Can I put breastmilk on my new tattoo instead ...   \n87  Have you used coconut oil for thrush/bacterial...   \n\n                                       article_author        article_time  \\\n0   [{'article_author_id': '369825', 'article_auth... 2017-11-28 12:36:00   \n1   [{'article_author_id': '148861', 'article_auth... 2009-07-29 18:38:00   \n2   [{'article_author_id': '312143', 'article_auth... 2012-08-17 10:42:00   \n3   [{'article_author_id': '365540', 'article_auth... 2008-02-22 14:48:00   \n4   [{'article_author_id': '552253', 'article_auth... 2009-07-03 16:27:00   \n..                                                ...                 ...   \n83  [{'article_author_id': '179677', 'article_auth... 2010-09-18 12:42:00   \n84  [{'article_author_id': '', 'article_author_nam... 2013-04-27 15:45:00   \n85  [{'article_author_id': '120987', 'article_auth... 2009-05-04 21:14:00   \n86  [{'article_author_id': '283324', 'article_auth... 2013-02-25 22:32:00   \n87  [{'article_author_id': '163120', 'article_auth... 2010-05-30 21:28:00   \n\n                                         article_text article_source  \\\n0   Hi, how many of you are into organic food? I r...        cafemom   \n1   LONDON (Reuters) - Organic food has no nutriti...        cafemom   \n2   As a new mom with a love of food I am offering...        cafemom   \n3   No Gluten Ingredients 1 Edited 2/21/08\\nNO GLU...        cafemom   \n4   Where do you shop and what do you think is the...        cafemom   \n..                                                ...            ...   \n83  Nearly a month ago, I forgot to grab my chapst...        cafemom   \n84  Ever since my sonw as born a year ago, I have ...        cafemom   \n85  so i got the gentian violet. how often do i us...        cafemom   \n86  I just got my first tattoo :Dits of \"June 16th...        cafemom   \n87  I've read up on it, and as we speak I am eatin...        cafemom   \n\n                                             comments  \\\n0   [{'comment_id': 'post349826036', 'comment_auth...   \n1   [{'comment_id': 'post69424412', 'comment_autho...   \n2   [{'comment_id': 'post200364798', 'comment_auth...   \n3   [{'comment_id': 'post16999019', 'comment_autho...   \n4   [{'comment_id': 'post67815207', 'comment_autho...   \n..                                                ...   \n83  [{'comment_id': 'post108128390', 'comment_auth...   \n84  [{'comment_id': 'post228776212', 'comment_auth...   \n85  [{'comment_id': 'post63820164', 'comment_autho...   \n86  [{'comment_id': 'post222841107', 'comment_auth...   \n87  [{'comment_id': 'post89885026', 'comment_autho...   \n\n                     search_query  \\\n0   organic food site:cafemom.com   \n1   organic food site:cafemom.com   \n2   organic food site:cafemom.com   \n3   organic food site:cafemom.com   \n4   organic food site:cafemom.com   \n..                            ...   \n83       organic site:cafemom.com   \n84       organic site:cafemom.com   \n85       organic site:cafemom.com   \n86       organic site:cafemom.com   \n87       organic site:cafemom.com   \n\n                                          article_url resource_type  relevant  \n0   http://www.cafemom.com/group/121506/forums/rea...         forum         1  \n1   http://www.cafemom.com/group/99198/forums/read...         forum         1  \n2   http://www.cafemom.com/group/117663/forums/rea...         forum         0  \n3   http://www.cafemom.com/group/909/forums/read/2...         forum         0  \n4   http://www.cafemom.com/group/416/forums/read/9...         forum         1  \n..                                                ...           ...       ...  \n83  http://www.cafemom.com/group/416/forums/read/1...         forum         0  \n84  http://www.cafemom.com/group/115189/forums/rea...         forum         0  \n85  http://www.cafemom.com/group/325/forums/read/8...         forum         0  \n86  http://www.cafemom.com/group/325/forums/read/1...         forum         0  \n87  http://www.cafemom.com/group/325/forums/read/1...         forum         0  \n\n[88 rows x 10 columns]\n                                               comment\n0    I think that if you can, organic and local is ...\n1                           Why am I not shocked ? lol\n2    oh this is going to get good. But i will say t...\n3    they are only talking about the general nutrie...\n4                   you took the words out of my mouth\n..                                                 ...\n324  I have never checked a single thing I use for ...\n325  Salicylic acid This mild acid is used to treat...\n326                           I ditto her. What is it?\n327  When I was pregnant with my daughter in 2006 I...\n328  Im a \"green\" \"crunchy\" momma and I try to avoi...\n\n[329 rows x 1 columns]\n"
     ]
    }
   ],
   "source": [
    "df_example = pd.read_json(json_list[0])\n",
    "df_example_comment = extract_comment(df_example)\n",
    "print(df_example)\n",
    "print(df_example_comment)"
   ]
  },
  {
   "cell_type": "code",
   "execution_count": 6,
   "metadata": {},
   "outputs": [
    {
     "output_type": "stream",
     "name": "stdout",
     "text": [
      "cafemom.json (88, 10) (329, 1)\n",
      "disqus.json (42, 12) (7573, 1)\n",
      "quora.json (1703, 10) (8634, 1)\n",
      "reddit.json (256, 13) (8134, 1)\n",
      "usmessageboard.json (382, 10) (1954, 1)\n",
      "chicagotribune.json (2328, 10) (151, 1)\n",
      "huffingtonpost.json (880, 10) (0, 1)\n",
      "latimes.json (1522, 10) (14, 1)\n",
      "nypost.json (106, 10) (0, 1)\n",
      "nytimes.json (438, 10) (11567, 1)\n",
      "usatoday.json (95, 10) (191, 1)\n",
      "washingtonpost.json (1563, 12) (14771, 1)\n"
     ]
    },
    {
     "output_type": "execute_result",
     "data": {
      "text/plain": [
       "                                             comment\n",
       "0  I think that if you can, organic and local is ...\n",
       "1                         Why am I not shocked ? lol\n",
       "2  oh this is going to get good. But i will say t...\n",
       "3  they are only talking about the general nutrie...\n",
       "4                 you took the words out of my mouth"
      ],
      "text/html": "<div>\n<style scoped>\n    .dataframe tbody tr th:only-of-type {\n        vertical-align: middle;\n    }\n\n    .dataframe tbody tr th {\n        vertical-align: top;\n    }\n\n    .dataframe thead th {\n        text-align: right;\n    }\n</style>\n<table border=\"1\" class=\"dataframe\">\n  <thead>\n    <tr style=\"text-align: right;\">\n      <th></th>\n      <th>comment</th>\n    </tr>\n  </thead>\n  <tbody>\n    <tr>\n      <td>0</td>\n      <td>I think that if you can, organic and local is ...</td>\n    </tr>\n    <tr>\n      <td>1</td>\n      <td>Why am I not shocked ? lol</td>\n    </tr>\n    <tr>\n      <td>2</td>\n      <td>oh this is going to get good. But i will say t...</td>\n    </tr>\n    <tr>\n      <td>3</td>\n      <td>they are only talking about the general nutrie...</td>\n    </tr>\n    <tr>\n      <td>4</td>\n      <td>you took the words out of my mouth</td>\n    </tr>\n  </tbody>\n</table>\n</div>"
     },
     "metadata": {},
     "execution_count": 6
    }
   ],
   "source": [
    "df_comment = pd.DataFrame()\n",
    "df_comment['comment'] = ''\n",
    "for file in json_list:\n",
    "    df = pd.read_json(file)\n",
    "    df_new = extract_comment(df)\n",
    "    print(os.path.basename(file), df.shape, df_new.shape)\n",
    "    df_comment = df_comment.append(df_new)\n",
    "df_comment.head()"
   ]
  },
  {
   "cell_type": "code",
   "execution_count": 7,
   "metadata": {},
   "outputs": [
    {
     "output_type": "execute_result",
     "data": {
      "text/plain": [
       "(53318, 1)"
      ]
     },
     "metadata": {},
     "execution_count": 7
    }
   ],
   "source": [
    "df_comment.shape"
   ]
  },
  {
   "cell_type": "code",
   "execution_count": 10,
   "metadata": {},
   "outputs": [],
   "source": [
    "processed_path = \"../processed\"\n",
    "os.makedirs(processed_path, exist_ok=True)\n",
    "with open(os.path.join(processed_path, 'comments.pkl'), 'wb') as f:\n",
    "    pickle.dump(df_comment, f)"
   ]
  },
  {
   "cell_type": "code",
   "execution_count": 9,
   "metadata": {},
   "outputs": [
    {
     "output_type": "execute_result",
     "data": {
      "text/plain": [
       "                                                 comment\n",
       "0      I think that if you can, organic and local is ...\n",
       "1                             Why am I not shocked ? lol\n",
       "2      oh this is going to get good. But i will say t...\n",
       "3      they are only talking about the general nutrie...\n",
       "4                     you took the words out of my mouth\n",
       "...                                                  ...\n",
       "14766  Recognizing the power of Branding, the Amish s...\n",
       "14767  Amish tend to avoid 'branding' anything they m...\n",
       "14768  The Amish community around Lancaster, PA love ...\n",
       "14769  Look for Organic Valley dairy products. You ca...\n",
       "14770  Branding their milk may be against basic Amish...\n",
       "\n",
       "[53318 rows x 1 columns]"
      ],
      "text/html": "<div>\n<style scoped>\n    .dataframe tbody tr th:only-of-type {\n        vertical-align: middle;\n    }\n\n    .dataframe tbody tr th {\n        vertical-align: top;\n    }\n\n    .dataframe thead th {\n        text-align: right;\n    }\n</style>\n<table border=\"1\" class=\"dataframe\">\n  <thead>\n    <tr style=\"text-align: right;\">\n      <th></th>\n      <th>comment</th>\n    </tr>\n  </thead>\n  <tbody>\n    <tr>\n      <td>0</td>\n      <td>I think that if you can, organic and local is ...</td>\n    </tr>\n    <tr>\n      <td>1</td>\n      <td>Why am I not shocked ? lol</td>\n    </tr>\n    <tr>\n      <td>2</td>\n      <td>oh this is going to get good. But i will say t...</td>\n    </tr>\n    <tr>\n      <td>3</td>\n      <td>they are only talking about the general nutrie...</td>\n    </tr>\n    <tr>\n      <td>4</td>\n      <td>you took the words out of my mouth</td>\n    </tr>\n    <tr>\n      <td>...</td>\n      <td>...</td>\n    </tr>\n    <tr>\n      <td>14766</td>\n      <td>Recognizing the power of Branding, the Amish s...</td>\n    </tr>\n    <tr>\n      <td>14767</td>\n      <td>Amish tend to avoid 'branding' anything they m...</td>\n    </tr>\n    <tr>\n      <td>14768</td>\n      <td>The Amish community around Lancaster, PA love ...</td>\n    </tr>\n    <tr>\n      <td>14769</td>\n      <td>Look for Organic Valley dairy products. You ca...</td>\n    </tr>\n    <tr>\n      <td>14770</td>\n      <td>Branding their milk may be against basic Amish...</td>\n    </tr>\n  </tbody>\n</table>\n<p>53318 rows × 1 columns</p>\n</div>"
     },
     "metadata": {},
     "execution_count": 9
    }
   ],
   "source": [
    "with open(os.path.join(processed_path, 'comments.pkl'), 'rb') as f:\n",
    "    df_comment = pickle.load(f)\n",
    "df_comment      # TODO: index and length not match"
   ]
  },
  {
   "cell_type": "code",
   "execution_count": 47,
   "metadata": {},
   "outputs": [
    {
     "output_type": "execute_result",
     "data": {
      "text/plain": [
       "0        I think that if you can, organic and local is ...\n",
       "1                               Why am I not shocked ? lol\n",
       "2        oh this is going to get good. But i will say t...\n",
       "3        they are only talking about the general nutrie...\n",
       "4                       you took the words out of my mouth\n",
       "                               ...                        \n",
       "14766    Recognizing the power of Branding, the Amish s...\n",
       "14767    Amish tend to avoid 'branding' anything they m...\n",
       "14768    The Amish community around Lancaster, PA love ...\n",
       "14769    Look for Organic Valley dairy products. You ca...\n",
       "14770    Branding their milk may be against basic Amish...\n",
       "Name: comment, Length: 53318, dtype: object"
      ]
     },
     "metadata": {},
     "execution_count": 47
    }
   ],
   "source": [
    "df_comment.comment"
   ]
  }
 ]
}